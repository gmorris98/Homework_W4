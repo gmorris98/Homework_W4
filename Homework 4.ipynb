{
 "cells": [
  {
   "cell_type": "code",
   "execution_count": 1,
   "metadata": {},
   "outputs": [
    {
     "data": {
      "text/plain": [
       "'nohtyP'"
      ]
     },
     "execution_count": 1,
     "metadata": {},
     "output_type": "execute_result"
    }
   ],
   "source": [
    "'Python'[::-1]"
   ]
  },
  {
   "cell_type": "code",
   "execution_count": 20,
   "metadata": {},
   "outputs": [],
   "source": [
    "a = '7 apples'\n",
    "l = '5 oranges'\n",
    "f = '12 fruits.'\n",
    "z = 'I have %s and %s, therefore I have %s' %(a,l,f)"
   ]
  },
  {
   "cell_type": "code",
   "execution_count": 21,
   "metadata": {},
   "outputs": [
    {
     "data": {
      "text/plain": [
       "'I have 7 apples and 5 oranges, therefore I have 12 fruits.'"
      ]
     },
     "execution_count": 21,
     "metadata": {},
     "output_type": "execute_result"
    }
   ],
   "source": [
    "z"
   ]
  },
  {
   "cell_type": "code",
   "execution_count": 47,
   "metadata": {},
   "outputs": [
    {
     "data": {
      "text/plain": [
       "'abc'"
      ]
     },
     "execution_count": 47,
     "metadata": {},
     "output_type": "execute_result"
    }
   ],
   "source": [
    "letters = ['a', 'b', 'c']\n",
    "''.join(letters)"
   ]
  },
  {
   "cell_type": "code",
   "execution_count": 53,
   "metadata": {},
   "outputs": [
    {
     "name": "stdout",
     "output_type": "stream",
     "text": [
      "[3, 12]\n"
     ]
    }
   ],
   "source": [
    "list1 = [1,2,3,4,8,12]\n",
    "list2 = [1,4,8,2]\n",
    "diff_list = [item for item in list1 if not item in list2]\n",
    "print (diff_list)"
   ]
  },
  {
   "cell_type": "code",
   "execution_count": 8,
   "metadata": {},
   "outputs": [
    {
     "name": "stdout",
     "output_type": "stream",
     "text": [
      "(4, 6, 2, 8, 3, 1, 15)\n"
     ]
    }
   ],
   "source": [
    "tuple_numbers1 = (4,6,2,8,3,1)\n",
    "tuple_numbers2 = (15,)\n",
    "tuple_numbers3 = tuple_numbers1 + tuple_numbers2\n",
    "print (tuple_numbers3)"
   ]
  },
  {
   "cell_type": "code",
   "execution_count": 14,
   "metadata": {},
   "outputs": [
    {
     "data": {
      "text/plain": [
       "'python'"
      ]
     },
     "execution_count": 14,
     "metadata": {},
     "output_type": "execute_result"
    }
   ],
   "source": [
    "input_tuple = ('p', 'y', 't', 'h', 'o', 'n')\n",
    "''.join(input_tuple)\n",
    "'python'"
   ]
  },
  {
   "cell_type": "code",
   "execution_count": 21,
   "metadata": {},
   "outputs": [
    {
     "name": "stdout",
     "output_type": "stream",
     "text": [
      "{'Jack': 25, 'John': 26, 'Emily': 23, 'Carol': 28, 'Walter': 22}\n"
     ]
    }
   ],
   "source": [
    "names1 = {'Jack': 25, 'John': 26, 'Emily': 23}\n",
    "names2 = {'Carol': 28, 'Walter': 22}\n",
    "def merge_two_dicts (names1, names2):\n",
    "    z = names1.copy()   \n",
    "    z.update(names2)    \n",
    "    return z\n",
    "print (z)"
   ]
  },
  {
   "cell_type": "code",
   "execution_count": 24,
   "metadata": {},
   "outputs": [
    {
     "data": {
      "text/plain": [
       "743"
      ]
     },
     "execution_count": 24,
     "metadata": {},
     "output_type": "execute_result"
    }
   ],
   "source": [
    "ice_cream_price = {'Chocolate': 200, 'Strawberry': 188, 'Vanilla': 175, 'Caramel': 180}\n",
    "sum(ice_cream_price.values())"
   ]
  },
  {
   "cell_type": "code",
   "execution_count": 33,
   "metadata": {},
   "outputs": [
    {
     "name": "stdout",
     "output_type": "stream",
     "text": [
      "('Black', 'Red', 'Yellow')\n",
      "('#000000', '#FF0000', '#FFFF00')\n",
      "('rgb(0, 0, 0)', 'rgb(255, 0, 0)', 'rgb(255, 255, 0)')\n"
     ]
    }
   ],
   "source": [
    "colour = [\n",
    "    (\"Black\", \"#000000\", \"rgb(0, 0, 0)\"), \n",
    "    (\"Red\", \"#FF0000\", \"rgb(255, 0, 0)\"), \n",
    "    (\"Yellow\", \"#FFFF00\", \"rgb(255, 255, 0)\")\n",
    "]\n",
    "colour = [('Black', 'Red', 'Yellow'), ('#000000', '#FF0000', '#FFFF00'), ('rgb(0, 0, 0)', 'rgb(255, 0, 0)','rgb(255, 2555, 0)')]\n",
    "colours_english, colours_hex, colours_rgb = colour\n",
    "colours_english =('Black', 'Red', 'Yellow')\n",
    "colours_hex = ('#000000', '#FF0000', '#FFFF00')\n",
    "colours_rgb = ('rgb(0, 0, 0)', 'rgb(255, 0, 0)', 'rgb(255, 255, 0)')\n",
    "print (colours_english)\n",
    "print (colours_hex)\n",
    "print (colours_rgb)"
   ]
  },
  {
   "cell_type": "code",
   "execution_count": null,
   "metadata": {},
   "outputs": [],
   "source": []
  }
 ],
 "metadata": {
  "kernelspec": {
   "display_name": "Python 3",
   "language": "python",
   "name": "python3"
  },
  "language_info": {
   "codemirror_mode": {
    "name": "ipython",
    "version": 3
   },
   "file_extension": ".py",
   "mimetype": "text/x-python",
   "name": "python",
   "nbconvert_exporter": "python",
   "pygments_lexer": "ipython3",
   "version": "3.7.0"
  }
 },
 "nbformat": 4,
 "nbformat_minor": 2
}
